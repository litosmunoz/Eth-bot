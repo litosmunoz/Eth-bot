{
 "cells": [
  {
   "cell_type": "code",
   "execution_count": 1,
   "metadata": {},
   "outputs": [],
   "source": [
    "import pandas as pd\n",
    "import ta\n",
    "from backtesting import Backtest, Strategy\n",
    "from backtesting.lib import crossover\n",
    "from pybit import spot  # <-- import HTTP & WSS for spot\n",
    "from pybit import HTTP  # supports inverse perp & futures, usdt perp, spot.\n",
    "from dotenv import load_dotenv\n",
    "import os\n",
    "import warnings\n",
    "warnings.simplefilter(\"ignore\")"
   ]
  },
  {
   "cell_type": "code",
   "execution_count": 2,
   "metadata": {},
   "outputs": [
    {
     "data": {
      "text/plain": [
       "True"
      ]
     },
     "execution_count": 2,
     "metadata": {},
     "output_type": "execute_result"
    }
   ],
   "source": [
    "load_dotenv()"
   ]
  },
  {
   "cell_type": "code",
   "execution_count": 3,
   "metadata": {},
   "outputs": [],
   "source": [
    "api_key_pw = os.getenv('api_key_bot_IP')\n",
    "api_secret_pw = os.getenv('api_secret_bot_IP')"
   ]
  },
  {
   "cell_type": "code",
   "execution_count": 4,
   "metadata": {},
   "outputs": [],
   "source": [
    "from pybit import spot\n",
    "session_auth = spot.HTTP(\n",
    "    endpoint='https://api.bybit.com',\n",
    "    api_key = api_key_pw,\n",
    "    api_secret= api_secret_pw\n",
    ")"
   ]
  },
  {
   "cell_type": "code",
   "execution_count": 5,
   "metadata": {},
   "outputs": [],
   "source": [
    "def get5minutedata(symbol, interval):\n",
    "    frame = pd.DataFrame(session_auth.query_kline(symbol=symbol, interval=interval)[\"result\"])\n",
    "    frame = frame.iloc[:,:6]\n",
    "    frame.columns = ['Time', 'Open', 'High', 'Low', 'Close', 'Volume']\n",
    "    frame = frame.set_index(\"Time\")\n",
    "    frame.index = pd.to_datetime(frame.index, unit=\"ms\")\n",
    "    frame = frame.astype(float)\n",
    "    return frame"
   ]
  },
  {
   "cell_type": "code",
   "execution_count": 6,
   "metadata": {},
   "outputs": [
    {
     "data": {
      "text/html": [
       "<div>\n",
       "<style scoped>\n",
       "    .dataframe tbody tr th:only-of-type {\n",
       "        vertical-align: middle;\n",
       "    }\n",
       "\n",
       "    .dataframe tbody tr th {\n",
       "        vertical-align: top;\n",
       "    }\n",
       "\n",
       "    .dataframe thead th {\n",
       "        text-align: right;\n",
       "    }\n",
       "</style>\n",
       "<table border=\"1\" class=\"dataframe\">\n",
       "  <thead>\n",
       "    <tr style=\"text-align: right;\">\n",
       "      <th></th>\n",
       "      <th>Open</th>\n",
       "      <th>High</th>\n",
       "      <th>Low</th>\n",
       "      <th>Close</th>\n",
       "      <th>Volume</th>\n",
       "    </tr>\n",
       "    <tr>\n",
       "      <th>Time</th>\n",
       "      <th></th>\n",
       "      <th></th>\n",
       "      <th></th>\n",
       "      <th></th>\n",
       "      <th></th>\n",
       "    </tr>\n",
       "  </thead>\n",
       "  <tbody>\n",
       "    <tr>\n",
       "      <th>2023-01-24 04:20:00</th>\n",
       "      <td>1637.36</td>\n",
       "      <td>1640.36</td>\n",
       "      <td>1636.80</td>\n",
       "      <td>1640.36</td>\n",
       "      <td>42.15284</td>\n",
       "    </tr>\n",
       "    <tr>\n",
       "      <th>2023-01-24 04:25:00</th>\n",
       "      <td>1640.36</td>\n",
       "      <td>1640.68</td>\n",
       "      <td>1637.08</td>\n",
       "      <td>1638.62</td>\n",
       "      <td>28.44273</td>\n",
       "    </tr>\n",
       "    <tr>\n",
       "      <th>2023-01-24 04:30:00</th>\n",
       "      <td>1638.62</td>\n",
       "      <td>1638.62</td>\n",
       "      <td>1636.97</td>\n",
       "      <td>1636.98</td>\n",
       "      <td>18.59142</td>\n",
       "    </tr>\n",
       "    <tr>\n",
       "      <th>2023-01-24 04:35:00</th>\n",
       "      <td>1636.98</td>\n",
       "      <td>1636.99</td>\n",
       "      <td>1636.12</td>\n",
       "      <td>1636.84</td>\n",
       "      <td>39.59181</td>\n",
       "    </tr>\n",
       "    <tr>\n",
       "      <th>2023-01-24 04:40:00</th>\n",
       "      <td>1636.84</td>\n",
       "      <td>1637.16</td>\n",
       "      <td>1636.51</td>\n",
       "      <td>1636.79</td>\n",
       "      <td>43.01813</td>\n",
       "    </tr>\n",
       "    <tr>\n",
       "      <th>...</th>\n",
       "      <td>...</td>\n",
       "      <td>...</td>\n",
       "      <td>...</td>\n",
       "      <td>...</td>\n",
       "      <td>...</td>\n",
       "    </tr>\n",
       "    <tr>\n",
       "      <th>2023-01-27 15:15:00</th>\n",
       "      <td>1588.55</td>\n",
       "      <td>1591.21</td>\n",
       "      <td>1582.95</td>\n",
       "      <td>1584.36</td>\n",
       "      <td>457.51559</td>\n",
       "    </tr>\n",
       "    <tr>\n",
       "      <th>2023-01-27 15:20:00</th>\n",
       "      <td>1584.36</td>\n",
       "      <td>1585.19</td>\n",
       "      <td>1581.00</td>\n",
       "      <td>1583.74</td>\n",
       "      <td>301.90594</td>\n",
       "    </tr>\n",
       "    <tr>\n",
       "      <th>2023-01-27 15:25:00</th>\n",
       "      <td>1583.74</td>\n",
       "      <td>1585.09</td>\n",
       "      <td>1581.90</td>\n",
       "      <td>1585.09</td>\n",
       "      <td>219.29544</td>\n",
       "    </tr>\n",
       "    <tr>\n",
       "      <th>2023-01-27 15:30:00</th>\n",
       "      <td>1585.09</td>\n",
       "      <td>1585.30</td>\n",
       "      <td>1581.44</td>\n",
       "      <td>1581.85</td>\n",
       "      <td>183.58522</td>\n",
       "    </tr>\n",
       "    <tr>\n",
       "      <th>2023-01-27 15:35:00</th>\n",
       "      <td>1581.85</td>\n",
       "      <td>1587.55</td>\n",
       "      <td>1581.36</td>\n",
       "      <td>1587.55</td>\n",
       "      <td>141.17380</td>\n",
       "    </tr>\n",
       "  </tbody>\n",
       "</table>\n",
       "<p>1000 rows × 5 columns</p>\n",
       "</div>"
      ],
      "text/plain": [
       "                        Open     High      Low    Close     Volume\n",
       "Time                                                              \n",
       "2023-01-24 04:20:00  1637.36  1640.36  1636.80  1640.36   42.15284\n",
       "2023-01-24 04:25:00  1640.36  1640.68  1637.08  1638.62   28.44273\n",
       "2023-01-24 04:30:00  1638.62  1638.62  1636.97  1636.98   18.59142\n",
       "2023-01-24 04:35:00  1636.98  1636.99  1636.12  1636.84   39.59181\n",
       "2023-01-24 04:40:00  1636.84  1637.16  1636.51  1636.79   43.01813\n",
       "...                      ...      ...      ...      ...        ...\n",
       "2023-01-27 15:15:00  1588.55  1591.21  1582.95  1584.36  457.51559\n",
       "2023-01-27 15:20:00  1584.36  1585.19  1581.00  1583.74  301.90594\n",
       "2023-01-27 15:25:00  1583.74  1585.09  1581.90  1585.09  219.29544\n",
       "2023-01-27 15:30:00  1585.09  1585.30  1581.44  1581.85  183.58522\n",
       "2023-01-27 15:35:00  1581.85  1587.55  1581.36  1587.55  141.17380\n",
       "\n",
       "[1000 rows x 5 columns]"
      ]
     },
     "execution_count": 6,
     "metadata": {},
     "output_type": "execute_result"
    }
   ],
   "source": [
    "df = get5minutedata(\"ETHUSDT\", \"5m\")\n",
    "df"
   ]
  },
  {
   "cell_type": "code",
   "execution_count": 68,
   "metadata": {},
   "outputs": [],
   "source": [
    "eth = pd.read_csv ('./eth_actualizado.csv')\n",
    "eth['Time'] = eth['time'].str.extract('(\\d{4}-\\d{2}-\\d{2}\\w\\d{2}:\\d{2}:\\d{2})', expand=True)\n",
    "eth['Time'] = pd.to_datetime(eth[\"Time\"])\n",
    "eth.set_index(\"Time\", inplace = True)\n",
    "eth.drop(columns=\"time\", inplace=True)\n",
    "eth.columns = ['Open', 'High', 'Low', 'Close', 'Volume']\n",
    "eth = eth[7000:]"
   ]
  },
  {
   "cell_type": "code",
   "execution_count": 69,
   "metadata": {},
   "outputs": [
    {
     "data": {
      "text/html": [
       "<div>\n",
       "<style scoped>\n",
       "    .dataframe tbody tr th:only-of-type {\n",
       "        vertical-align: middle;\n",
       "    }\n",
       "\n",
       "    .dataframe tbody tr th {\n",
       "        vertical-align: top;\n",
       "    }\n",
       "\n",
       "    .dataframe thead th {\n",
       "        text-align: right;\n",
       "    }\n",
       "</style>\n",
       "<table border=\"1\" class=\"dataframe\">\n",
       "  <thead>\n",
       "    <tr style=\"text-align: right;\">\n",
       "      <th></th>\n",
       "      <th>Open</th>\n",
       "      <th>High</th>\n",
       "      <th>Low</th>\n",
       "      <th>Close</th>\n",
       "      <th>Volume</th>\n",
       "    </tr>\n",
       "    <tr>\n",
       "      <th>Time</th>\n",
       "      <th></th>\n",
       "      <th></th>\n",
       "      <th></th>\n",
       "      <th></th>\n",
       "      <th></th>\n",
       "    </tr>\n",
       "  </thead>\n",
       "  <tbody>\n",
       "    <tr>\n",
       "      <th>2023-01-12 08:20:00</th>\n",
       "      <td>1399.95</td>\n",
       "      <td>1400.70</td>\n",
       "      <td>1399.50</td>\n",
       "      <td>1400.70</td>\n",
       "      <td>599.75</td>\n",
       "    </tr>\n",
       "    <tr>\n",
       "      <th>2023-01-12 08:25:00</th>\n",
       "      <td>1400.70</td>\n",
       "      <td>1401.85</td>\n",
       "      <td>1399.95</td>\n",
       "      <td>1400.00</td>\n",
       "      <td>1721.92</td>\n",
       "    </tr>\n",
       "    <tr>\n",
       "      <th>2023-01-12 08:30:00</th>\n",
       "      <td>1400.00</td>\n",
       "      <td>1401.55</td>\n",
       "      <td>1399.70</td>\n",
       "      <td>1400.10</td>\n",
       "      <td>2315.36</td>\n",
       "    </tr>\n",
       "    <tr>\n",
       "      <th>2023-01-12 08:35:00</th>\n",
       "      <td>1400.10</td>\n",
       "      <td>1401.05</td>\n",
       "      <td>1399.90</td>\n",
       "      <td>1400.45</td>\n",
       "      <td>442.07</td>\n",
       "    </tr>\n",
       "    <tr>\n",
       "      <th>2023-01-12 08:40:00</th>\n",
       "      <td>1400.45</td>\n",
       "      <td>1401.00</td>\n",
       "      <td>1396.50</td>\n",
       "      <td>1396.50</td>\n",
       "      <td>2346.02</td>\n",
       "    </tr>\n",
       "    <tr>\n",
       "      <th>...</th>\n",
       "      <td>...</td>\n",
       "      <td>...</td>\n",
       "      <td>...</td>\n",
       "      <td>...</td>\n",
       "      <td>...</td>\n",
       "    </tr>\n",
       "    <tr>\n",
       "      <th>2023-01-24 21:25:00</th>\n",
       "      <td>1618.74</td>\n",
       "      <td>1618.99</td>\n",
       "      <td>1616.19</td>\n",
       "      <td>1616.95</td>\n",
       "      <td>1628.70</td>\n",
       "    </tr>\n",
       "    <tr>\n",
       "      <th>2023-01-24 21:30:00</th>\n",
       "      <td>1616.95</td>\n",
       "      <td>1618.38</td>\n",
       "      <td>1616.28</td>\n",
       "      <td>1616.28</td>\n",
       "      <td>874.82</td>\n",
       "    </tr>\n",
       "    <tr>\n",
       "      <th>2023-01-24 21:35:00</th>\n",
       "      <td>1616.28</td>\n",
       "      <td>1617.17</td>\n",
       "      <td>1613.25</td>\n",
       "      <td>1613.57</td>\n",
       "      <td>3684.93</td>\n",
       "    </tr>\n",
       "    <tr>\n",
       "      <th>2023-01-24 21:40:00</th>\n",
       "      <td>1613.57</td>\n",
       "      <td>1614.15</td>\n",
       "      <td>1608.61</td>\n",
       "      <td>1609.51</td>\n",
       "      <td>10034.16</td>\n",
       "    </tr>\n",
       "    <tr>\n",
       "      <th>2023-01-24 21:45:00</th>\n",
       "      <td>1609.51</td>\n",
       "      <td>1610.00</td>\n",
       "      <td>1607.73</td>\n",
       "      <td>1609.95</td>\n",
       "      <td>1663.73</td>\n",
       "    </tr>\n",
       "  </tbody>\n",
       "</table>\n",
       "<p>3618 rows × 5 columns</p>\n",
       "</div>"
      ],
      "text/plain": [
       "                        Open     High      Low    Close    Volume\n",
       "Time                                                             \n",
       "2023-01-12 08:20:00  1399.95  1400.70  1399.50  1400.70    599.75\n",
       "2023-01-12 08:25:00  1400.70  1401.85  1399.95  1400.00   1721.92\n",
       "2023-01-12 08:30:00  1400.00  1401.55  1399.70  1400.10   2315.36\n",
       "2023-01-12 08:35:00  1400.10  1401.05  1399.90  1400.45    442.07\n",
       "2023-01-12 08:40:00  1400.45  1401.00  1396.50  1396.50   2346.02\n",
       "...                      ...      ...      ...      ...       ...\n",
       "2023-01-24 21:25:00  1618.74  1618.99  1616.19  1616.95   1628.70\n",
       "2023-01-24 21:30:00  1616.95  1618.38  1616.28  1616.28    874.82\n",
       "2023-01-24 21:35:00  1616.28  1617.17  1613.25  1613.57   3684.93\n",
       "2023-01-24 21:40:00  1613.57  1614.15  1608.61  1609.51  10034.16\n",
       "2023-01-24 21:45:00  1609.51  1610.00  1607.73  1609.95   1663.73\n",
       "\n",
       "[3618 rows x 5 columns]"
      ]
     },
     "execution_count": 69,
     "metadata": {},
     "output_type": "execute_result"
    }
   ],
   "source": [
    "eth"
   ]
  },
  {
   "cell_type": "code",
   "execution_count": 92,
   "metadata": {},
   "outputs": [],
   "source": [
    "class ETH_Short(Strategy):\n",
    "\n",
    "    def init(self):\n",
    "        close = self.data.Close\n",
    "        self.rsi= self.I(ta.momentum.rsi, pd.Series(close), window=14)\n",
    "        self.K = self.I(ta.momentum.stochrsi_k, pd.Series(close), window= 14)\n",
    "        self.D = self.I(ta.momentum.stochrsi_d, pd.Series(close), window= 14)\n",
    "\n",
    "    def next(self):\n",
    "        price = self.data.Close\n",
    "        rsi = self.rsi\n",
    "        K = self.K\n",
    "        D = self.D\n",
    "       \n",
    "        if  rsi > 68 and K + 0.04 < D and D > 0.75:\n",
    "            sl = price * 1.015\n",
    "            tp = price * 0.96\n",
    "            self.sell(sl=sl, tp=tp)\n",
    "    "
   ]
  },
  {
   "cell_type": "code",
   "execution_count": 93,
   "metadata": {},
   "outputs": [],
   "source": [
    "bt = Backtest(df, ETH_Short, cash= 10000, commission= 0.0015)"
   ]
  },
  {
   "cell_type": "code",
   "execution_count": 94,
   "metadata": {},
   "outputs": [],
   "source": [
    "output = bt.run()"
   ]
  },
  {
   "cell_type": "code",
   "execution_count": 95,
   "metadata": {},
   "outputs": [
    {
     "data": {
      "text/plain": [
       "Start                     2023-01-24 04:20:00\n",
       "End                       2023-01-27 15:35:00\n",
       "Duration                      3 days 11:15:00\n",
       "Exposure Time [%]                        61.9\n",
       "Equity Final [$]                  9993.998885\n",
       "Equity Peak [$]                   10109.18716\n",
       "Return [%]                          -0.060011\n",
       "Buy & Hold Return [%]               -3.219415\n",
       "Return (Ann.) [%]                   -3.711219\n",
       "Volatility (Ann.) [%]               42.281693\n",
       "Sharpe Ratio                              0.0\n",
       "Sortino Ratio                             0.0\n",
       "Calmar Ratio                              0.0\n",
       "Max. Drawdown [%]                   -4.852039\n",
       "Avg. Drawdown [%]                   -1.075047\n",
       "Max. Drawdown Duration        2 days 00:25:00\n",
       "Avg. Drawdown Duration        0 days 08:03:00\n",
       "# Trades                                    4\n",
       "Win Rate [%]                             25.0\n",
       "Best Trade [%]                       3.855784\n",
       "Worst Trade [%]                     -1.652479\n",
       "Avg. Trade [%]                       0.092561\n",
       "Max. Trade Duration           1 days 03:20:00\n",
       "Avg. Trade Duration           0 days 12:49:00\n",
       "Profit Factor                        1.138882\n",
       "Expectancy [%]                       0.117549\n",
       "SQN                                 -0.013641\n",
       "_strategy                           ETH_Short\n",
       "_equity_curve                             ...\n",
       "_trades                      Size  EntryBa...\n",
       "dtype: object"
      ]
     },
     "execution_count": 95,
     "metadata": {},
     "output_type": "execute_result"
    }
   ],
   "source": [
    "output"
   ]
  },
  {
   "cell_type": "code",
   "execution_count": 96,
   "metadata": {},
   "outputs": [
    {
     "data": {
      "text/html": [
       "<div style=\"display: table;\"><div style=\"display: table-row;\"><div style=\"display: table-cell;\"><b title=\"bokeh.models.layouts.Row\">Row</b>(</div><div style=\"display: table-cell;\">id&nbsp;=&nbsp;'18936', <span id=\"19901\" style=\"cursor: pointer;\">&hellip;)</span></div></div><div class=\"19900\" style=\"display: none;\"><div style=\"display: table-cell;\"></div><div style=\"display: table-cell;\">align&nbsp;=&nbsp;'start',</div></div><div class=\"19900\" style=\"display: none;\"><div style=\"display: table-cell;\"></div><div style=\"display: table-cell;\">aspect_ratio&nbsp;=&nbsp;None,</div></div><div class=\"19900\" style=\"display: none;\"><div style=\"display: table-cell;\"></div><div style=\"display: table-cell;\">background&nbsp;=&nbsp;None,</div></div><div class=\"19900\" style=\"display: none;\"><div style=\"display: table-cell;\"></div><div style=\"display: table-cell;\">children&nbsp;=&nbsp;[GridBox(id='18933', ...), ToolbarBox(id='18935', ...)],</div></div><div class=\"19900\" style=\"display: none;\"><div style=\"display: table-cell;\"></div><div style=\"display: table-cell;\">cols&nbsp;=&nbsp;'auto',</div></div><div class=\"19900\" style=\"display: none;\"><div style=\"display: table-cell;\"></div><div style=\"display: table-cell;\">css_classes&nbsp;=&nbsp;[],</div></div><div class=\"19900\" style=\"display: none;\"><div style=\"display: table-cell;\"></div><div style=\"display: table-cell;\">disabled&nbsp;=&nbsp;False,</div></div><div class=\"19900\" style=\"display: none;\"><div style=\"display: table-cell;\"></div><div style=\"display: table-cell;\">height&nbsp;=&nbsp;None,</div></div><div class=\"19900\" style=\"display: none;\"><div style=\"display: table-cell;\"></div><div style=\"display: table-cell;\">height_policy&nbsp;=&nbsp;'auto',</div></div><div class=\"19900\" style=\"display: none;\"><div style=\"display: table-cell;\"></div><div style=\"display: table-cell;\">js_event_callbacks&nbsp;=&nbsp;{},</div></div><div class=\"19900\" style=\"display: none;\"><div style=\"display: table-cell;\"></div><div style=\"display: table-cell;\">js_property_callbacks&nbsp;=&nbsp;{},</div></div><div class=\"19900\" style=\"display: none;\"><div style=\"display: table-cell;\"></div><div style=\"display: table-cell;\">margin&nbsp;=&nbsp;(0, 0, 0, 0),</div></div><div class=\"19900\" style=\"display: none;\"><div style=\"display: table-cell;\"></div><div style=\"display: table-cell;\">max_height&nbsp;=&nbsp;None,</div></div><div class=\"19900\" style=\"display: none;\"><div style=\"display: table-cell;\"></div><div style=\"display: table-cell;\">max_width&nbsp;=&nbsp;None,</div></div><div class=\"19900\" style=\"display: none;\"><div style=\"display: table-cell;\"></div><div style=\"display: table-cell;\">min_height&nbsp;=&nbsp;None,</div></div><div class=\"19900\" style=\"display: none;\"><div style=\"display: table-cell;\"></div><div style=\"display: table-cell;\">min_width&nbsp;=&nbsp;None,</div></div><div class=\"19900\" style=\"display: none;\"><div style=\"display: table-cell;\"></div><div style=\"display: table-cell;\">name&nbsp;=&nbsp;None,</div></div><div class=\"19900\" style=\"display: none;\"><div style=\"display: table-cell;\"></div><div style=\"display: table-cell;\">sizing_mode&nbsp;=&nbsp;'stretch_width',</div></div><div class=\"19900\" style=\"display: none;\"><div style=\"display: table-cell;\"></div><div style=\"display: table-cell;\">spacing&nbsp;=&nbsp;0,</div></div><div class=\"19900\" style=\"display: none;\"><div style=\"display: table-cell;\"></div><div style=\"display: table-cell;\">subscribed_events&nbsp;=&nbsp;[],</div></div><div class=\"19900\" style=\"display: none;\"><div style=\"display: table-cell;\"></div><div style=\"display: table-cell;\">syncable&nbsp;=&nbsp;True,</div></div><div class=\"19900\" style=\"display: none;\"><div style=\"display: table-cell;\"></div><div style=\"display: table-cell;\">tags&nbsp;=&nbsp;[],</div></div><div class=\"19900\" style=\"display: none;\"><div style=\"display: table-cell;\"></div><div style=\"display: table-cell;\">visible&nbsp;=&nbsp;True,</div></div><div class=\"19900\" style=\"display: none;\"><div style=\"display: table-cell;\"></div><div style=\"display: table-cell;\">width&nbsp;=&nbsp;None,</div></div><div class=\"19900\" style=\"display: none;\"><div style=\"display: table-cell;\"></div><div style=\"display: table-cell;\">width_policy&nbsp;=&nbsp;'auto')</div></div></div>\n",
       "<script>\n",
       "(function() {\n",
       "  let expanded = false;\n",
       "  const ellipsis = document.getElementById(\"19901\");\n",
       "  ellipsis.addEventListener(\"click\", function() {\n",
       "    const rows = document.getElementsByClassName(\"19900\");\n",
       "    for (let i = 0; i < rows.length; i++) {\n",
       "      const el = rows[i];\n",
       "      el.style.display = expanded ? \"none\" : \"table-row\";\n",
       "    }\n",
       "    ellipsis.innerHTML = expanded ? \"&hellip;)\" : \"&lsaquo;&lsaquo;&lsaquo;\";\n",
       "    expanded = !expanded;\n",
       "  });\n",
       "})();\n",
       "</script>\n"
      ],
      "text/plain": [
       "Row(id='18936', ...)"
      ]
     },
     "execution_count": 96,
     "metadata": {},
     "output_type": "execute_result"
    }
   ],
   "source": [
    "bt.plot()"
   ]
  },
  {
   "cell_type": "code",
   "execution_count": null,
   "metadata": {},
   "outputs": [],
   "source": []
  },
  {
   "cell_type": "code",
   "execution_count": null,
   "metadata": {},
   "outputs": [],
   "source": []
  }
 ],
 "metadata": {
  "kernelspec": {
   "display_name": "base",
   "language": "python",
   "name": "python3"
  },
  "language_info": {
   "codemirror_mode": {
    "name": "ipython",
    "version": 3
   },
   "file_extension": ".py",
   "mimetype": "text/x-python",
   "name": "python",
   "nbconvert_exporter": "python",
   "pygments_lexer": "ipython3",
   "version": "3.9.12"
  },
  "orig_nbformat": 4,
  "vscode": {
   "interpreter": {
    "hash": "8e76f8642360a3358ab06c318ab18c1161224eb3836609d5c16edea6f6e43dba"
   }
  }
 },
 "nbformat": 4,
 "nbformat_minor": 2
}
