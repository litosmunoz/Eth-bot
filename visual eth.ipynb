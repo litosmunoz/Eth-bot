{
 "cells": [
  {
   "cell_type": "code",
   "execution_count": 57,
   "metadata": {},
   "outputs": [],
   "source": [
    "import pandas as pd\n",
    "import ta\n",
    "from backtesting import Backtest, Strategy\n",
    "from backtesting.lib import crossover\n",
    "from pybit import spot  # <-- import HTTP & WSS for spot\n",
    "from pybit import HTTP  # supports inverse perp & futures, usdt perp, spot.\n",
    "from dotenv import load_dotenv\n",
    "import os\n",
    "import warnings\n",
    "warnings.simplefilter(\"ignore\")"
   ]
  },
  {
   "cell_type": "code",
   "execution_count": 58,
   "metadata": {},
   "outputs": [
    {
     "data": {
      "text/plain": [
       "True"
      ]
     },
     "execution_count": 58,
     "metadata": {},
     "output_type": "execute_result"
    }
   ],
   "source": [
    "load_dotenv()"
   ]
  },
  {
   "cell_type": "code",
   "execution_count": 59,
   "metadata": {},
   "outputs": [],
   "source": [
    "api_key_pw = os.getenv('api_key_bot_IP')\n",
    "api_secret_pw = os.getenv('api_secret_bot_IP')"
   ]
  },
  {
   "cell_type": "code",
   "execution_count": 60,
   "metadata": {},
   "outputs": [],
   "source": [
    "from pybit import spot\n",
    "session_auth = spot.HTTP(\n",
    "    endpoint='https://api.bybit.com',\n",
    "    api_key = api_key_pw,\n",
    "    api_secret= api_secret_pw\n",
    ")"
   ]
  },
  {
   "cell_type": "code",
   "execution_count": 61,
   "metadata": {},
   "outputs": [],
   "source": [
    "def get5minutedata(symbol, interval):\n",
    "    frame = pd.DataFrame(session_auth.query_kline(symbol=symbol, interval=interval)[\"result\"])\n",
    "    frame = frame.iloc[:,:6]\n",
    "    frame.columns = ['Time', 'Open', 'High', 'Low', 'Close', 'Volume']\n",
    "    frame = frame.set_index(\"Time\")\n",
    "    frame.index = pd.to_datetime(frame.index, unit=\"ms\")\n",
    "    frame = frame.astype(float)\n",
    "    return frame"
   ]
  },
  {
   "cell_type": "code",
   "execution_count": 62,
   "metadata": {},
   "outputs": [
    {
     "data": {
      "text/html": [
       "<div>\n",
       "<style scoped>\n",
       "    .dataframe tbody tr th:only-of-type {\n",
       "        vertical-align: middle;\n",
       "    }\n",
       "\n",
       "    .dataframe tbody tr th {\n",
       "        vertical-align: top;\n",
       "    }\n",
       "\n",
       "    .dataframe thead th {\n",
       "        text-align: right;\n",
       "    }\n",
       "</style>\n",
       "<table border=\"1\" class=\"dataframe\">\n",
       "  <thead>\n",
       "    <tr style=\"text-align: right;\">\n",
       "      <th></th>\n",
       "      <th>Open</th>\n",
       "      <th>High</th>\n",
       "      <th>Low</th>\n",
       "      <th>Close</th>\n",
       "      <th>Volume</th>\n",
       "    </tr>\n",
       "    <tr>\n",
       "      <th>Time</th>\n",
       "      <th></th>\n",
       "      <th></th>\n",
       "      <th></th>\n",
       "      <th></th>\n",
       "      <th></th>\n",
       "    </tr>\n",
       "  </thead>\n",
       "  <tbody>\n",
       "    <tr>\n",
       "      <th>2023-01-21 09:35:00</th>\n",
       "      <td>1649.73</td>\n",
       "      <td>1650.60</td>\n",
       "      <td>1649.49</td>\n",
       "      <td>1650.24</td>\n",
       "      <td>39.41416</td>\n",
       "    </tr>\n",
       "    <tr>\n",
       "      <th>2023-01-21 09:40:00</th>\n",
       "      <td>1650.24</td>\n",
       "      <td>1659.47</td>\n",
       "      <td>1650.18</td>\n",
       "      <td>1652.93</td>\n",
       "      <td>834.77356</td>\n",
       "    </tr>\n",
       "    <tr>\n",
       "      <th>2023-01-21 09:45:00</th>\n",
       "      <td>1652.93</td>\n",
       "      <td>1654.90</td>\n",
       "      <td>1649.12</td>\n",
       "      <td>1654.61</td>\n",
       "      <td>279.47472</td>\n",
       "    </tr>\n",
       "    <tr>\n",
       "      <th>2023-01-21 09:50:00</th>\n",
       "      <td>1654.61</td>\n",
       "      <td>1656.84</td>\n",
       "      <td>1653.66</td>\n",
       "      <td>1655.92</td>\n",
       "      <td>143.19987</td>\n",
       "    </tr>\n",
       "    <tr>\n",
       "      <th>2023-01-21 09:55:00</th>\n",
       "      <td>1655.92</td>\n",
       "      <td>1664.33</td>\n",
       "      <td>1655.90</td>\n",
       "      <td>1662.27</td>\n",
       "      <td>832.37187</td>\n",
       "    </tr>\n",
       "    <tr>\n",
       "      <th>...</th>\n",
       "      <td>...</td>\n",
       "      <td>...</td>\n",
       "      <td>...</td>\n",
       "      <td>...</td>\n",
       "      <td>...</td>\n",
       "    </tr>\n",
       "    <tr>\n",
       "      <th>2023-01-24 20:30:00</th>\n",
       "      <td>1616.98</td>\n",
       "      <td>1617.86</td>\n",
       "      <td>1616.04</td>\n",
       "      <td>1616.04</td>\n",
       "      <td>226.49404</td>\n",
       "    </tr>\n",
       "    <tr>\n",
       "      <th>2023-01-24 20:35:00</th>\n",
       "      <td>1616.04</td>\n",
       "      <td>1616.50</td>\n",
       "      <td>1612.73</td>\n",
       "      <td>1613.06</td>\n",
       "      <td>135.30520</td>\n",
       "    </tr>\n",
       "    <tr>\n",
       "      <th>2023-01-24 20:40:00</th>\n",
       "      <td>1613.06</td>\n",
       "      <td>1613.38</td>\n",
       "      <td>1608.42</td>\n",
       "      <td>1609.22</td>\n",
       "      <td>258.08453</td>\n",
       "    </tr>\n",
       "    <tr>\n",
       "      <th>2023-01-24 20:45:00</th>\n",
       "      <td>1609.22</td>\n",
       "      <td>1611.62</td>\n",
       "      <td>1607.91</td>\n",
       "      <td>1610.59</td>\n",
       "      <td>99.39468</td>\n",
       "    </tr>\n",
       "    <tr>\n",
       "      <th>2023-01-24 20:50:00</th>\n",
       "      <td>1610.59</td>\n",
       "      <td>1616.49</td>\n",
       "      <td>1610.42</td>\n",
       "      <td>1615.01</td>\n",
       "      <td>130.78705</td>\n",
       "    </tr>\n",
       "  </tbody>\n",
       "</table>\n",
       "<p>1000 rows × 5 columns</p>\n",
       "</div>"
      ],
      "text/plain": [
       "                        Open     High      Low    Close     Volume\n",
       "Time                                                              \n",
       "2023-01-21 09:35:00  1649.73  1650.60  1649.49  1650.24   39.41416\n",
       "2023-01-21 09:40:00  1650.24  1659.47  1650.18  1652.93  834.77356\n",
       "2023-01-21 09:45:00  1652.93  1654.90  1649.12  1654.61  279.47472\n",
       "2023-01-21 09:50:00  1654.61  1656.84  1653.66  1655.92  143.19987\n",
       "2023-01-21 09:55:00  1655.92  1664.33  1655.90  1662.27  832.37187\n",
       "...                      ...      ...      ...      ...        ...\n",
       "2023-01-24 20:30:00  1616.98  1617.86  1616.04  1616.04  226.49404\n",
       "2023-01-24 20:35:00  1616.04  1616.50  1612.73  1613.06  135.30520\n",
       "2023-01-24 20:40:00  1613.06  1613.38  1608.42  1609.22  258.08453\n",
       "2023-01-24 20:45:00  1609.22  1611.62  1607.91  1610.59   99.39468\n",
       "2023-01-24 20:50:00  1610.59  1616.49  1610.42  1615.01  130.78705\n",
       "\n",
       "[1000 rows x 5 columns]"
      ]
     },
     "execution_count": 62,
     "metadata": {},
     "output_type": "execute_result"
    }
   ],
   "source": [
    "df = get5minutedata(\"ETHUSDT\", \"5m\")\n",
    "df"
   ]
  },
  {
   "cell_type": "code",
   "execution_count": 66,
   "metadata": {},
   "outputs": [],
   "source": [
    "eth = pd.read_csv ('./eth_actualizado.csv')\n",
    "eth['Time'] = eth['time'].str.extract('(\\d{4}-\\d{2}-\\d{2}\\w\\d{2}:\\d{2}:\\d{2})', expand=True)\n",
    "eth['Time'] = pd.to_datetime(eth[\"Time\"])\n",
    "eth.set_index(\"Time\", inplace = True)\n",
    "eth.drop(columns=\"time\", inplace=True)\n",
    "eth.columns = ['Open', 'High', 'Low', 'Close', 'Volume']\n",
    "eth = eth[:7000]"
   ]
  },
  {
   "cell_type": "code",
   "execution_count": 67,
   "metadata": {},
   "outputs": [
    {
     "data": {
      "text/html": [
       "<div>\n",
       "<style scoped>\n",
       "    .dataframe tbody tr th:only-of-type {\n",
       "        vertical-align: middle;\n",
       "    }\n",
       "\n",
       "    .dataframe tbody tr th {\n",
       "        vertical-align: top;\n",
       "    }\n",
       "\n",
       "    .dataframe thead th {\n",
       "        text-align: right;\n",
       "    }\n",
       "</style>\n",
       "<table border=\"1\" class=\"dataframe\">\n",
       "  <thead>\n",
       "    <tr style=\"text-align: right;\">\n",
       "      <th></th>\n",
       "      <th>Open</th>\n",
       "      <th>High</th>\n",
       "      <th>Low</th>\n",
       "      <th>Close</th>\n",
       "      <th>Volume</th>\n",
       "    </tr>\n",
       "    <tr>\n",
       "      <th>Time</th>\n",
       "      <th></th>\n",
       "      <th></th>\n",
       "      <th></th>\n",
       "      <th></th>\n",
       "      <th></th>\n",
       "    </tr>\n",
       "  </thead>\n",
       "  <tbody>\n",
       "    <tr>\n",
       "      <th>2022-12-19 01:00:00</th>\n",
       "      <td>1182.50</td>\n",
       "      <td>1183.10</td>\n",
       "      <td>1182.45</td>\n",
       "      <td>1182.50</td>\n",
       "      <td>1871.65</td>\n",
       "    </tr>\n",
       "    <tr>\n",
       "      <th>2022-12-19 01:05:00</th>\n",
       "      <td>1182.50</td>\n",
       "      <td>1182.90</td>\n",
       "      <td>1181.35</td>\n",
       "      <td>1182.60</td>\n",
       "      <td>3669.31</td>\n",
       "    </tr>\n",
       "    <tr>\n",
       "      <th>2022-12-19 01:10:00</th>\n",
       "      <td>1182.60</td>\n",
       "      <td>1186.10</td>\n",
       "      <td>1182.60</td>\n",
       "      <td>1185.30</td>\n",
       "      <td>6792.08</td>\n",
       "    </tr>\n",
       "    <tr>\n",
       "      <th>2022-12-19 01:15:00</th>\n",
       "      <td>1185.30</td>\n",
       "      <td>1186.25</td>\n",
       "      <td>1184.35</td>\n",
       "      <td>1186.15</td>\n",
       "      <td>2287.35</td>\n",
       "    </tr>\n",
       "    <tr>\n",
       "      <th>2022-12-19 01:20:00</th>\n",
       "      <td>1186.15</td>\n",
       "      <td>1188.80</td>\n",
       "      <td>1186.15</td>\n",
       "      <td>1188.55</td>\n",
       "      <td>3974.38</td>\n",
       "    </tr>\n",
       "    <tr>\n",
       "      <th>...</th>\n",
       "      <td>...</td>\n",
       "      <td>...</td>\n",
       "      <td>...</td>\n",
       "      <td>...</td>\n",
       "      <td>...</td>\n",
       "    </tr>\n",
       "    <tr>\n",
       "      <th>2023-01-12 07:55:00</th>\n",
       "      <td>1398.55</td>\n",
       "      <td>1398.60</td>\n",
       "      <td>1397.70</td>\n",
       "      <td>1397.70</td>\n",
       "      <td>1819.98</td>\n",
       "    </tr>\n",
       "    <tr>\n",
       "      <th>2023-01-12 08:00:00</th>\n",
       "      <td>1397.70</td>\n",
       "      <td>1398.60</td>\n",
       "      <td>1397.30</td>\n",
       "      <td>1397.35</td>\n",
       "      <td>2349.89</td>\n",
       "    </tr>\n",
       "    <tr>\n",
       "      <th>2023-01-12 08:05:00</th>\n",
       "      <td>1397.35</td>\n",
       "      <td>1397.35</td>\n",
       "      <td>1396.15</td>\n",
       "      <td>1396.90</td>\n",
       "      <td>1162.84</td>\n",
       "    </tr>\n",
       "    <tr>\n",
       "      <th>2023-01-12 08:10:00</th>\n",
       "      <td>1396.90</td>\n",
       "      <td>1400.15</td>\n",
       "      <td>1396.85</td>\n",
       "      <td>1399.85</td>\n",
       "      <td>3539.74</td>\n",
       "    </tr>\n",
       "    <tr>\n",
       "      <th>2023-01-12 08:15:00</th>\n",
       "      <td>1399.85</td>\n",
       "      <td>1401.60</td>\n",
       "      <td>1399.85</td>\n",
       "      <td>1399.95</td>\n",
       "      <td>2491.57</td>\n",
       "    </tr>\n",
       "  </tbody>\n",
       "</table>\n",
       "<p>7000 rows × 5 columns</p>\n",
       "</div>"
      ],
      "text/plain": [
       "                        Open     High      Low    Close   Volume\n",
       "Time                                                            \n",
       "2022-12-19 01:00:00  1182.50  1183.10  1182.45  1182.50  1871.65\n",
       "2022-12-19 01:05:00  1182.50  1182.90  1181.35  1182.60  3669.31\n",
       "2022-12-19 01:10:00  1182.60  1186.10  1182.60  1185.30  6792.08\n",
       "2022-12-19 01:15:00  1185.30  1186.25  1184.35  1186.15  2287.35\n",
       "2022-12-19 01:20:00  1186.15  1188.80  1186.15  1188.55  3974.38\n",
       "...                      ...      ...      ...      ...      ...\n",
       "2023-01-12 07:55:00  1398.55  1398.60  1397.70  1397.70  1819.98\n",
       "2023-01-12 08:00:00  1397.70  1398.60  1397.30  1397.35  2349.89\n",
       "2023-01-12 08:05:00  1397.35  1397.35  1396.15  1396.90  1162.84\n",
       "2023-01-12 08:10:00  1396.90  1400.15  1396.85  1399.85  3539.74\n",
       "2023-01-12 08:15:00  1399.85  1401.60  1399.85  1399.95  2491.57\n",
       "\n",
       "[7000 rows x 5 columns]"
      ]
     },
     "execution_count": 67,
     "metadata": {},
     "output_type": "execute_result"
    }
   ],
   "source": [
    "eth"
   ]
  },
  {
   "cell_type": "code",
   "execution_count": 109,
   "metadata": {},
   "outputs": [],
   "source": [
    "class ETH_Short(Strategy):\n",
    "\n",
    "    def init(self):\n",
    "        close = self.data.Close\n",
    "        self.rsi= self.I(ta.momentum.rsi, pd.Series(close), window=14)\n",
    "        self.K = self.I(ta.momentum.stochrsi_k, pd.Series(close), window= 14)\n",
    "        self.D = self.I(ta.momentum.stochrsi_d, pd.Series(close), window= 14)\n",
    "\n",
    "    def next(self):\n",
    "        price = self.data.Close\n",
    "        rsi = self.rsi\n",
    "        K = self.K\n",
    "        D = self.D\n",
    "       \n",
    "        if  rsi > 68 and K + 0.03 < D and D > 0.75:\n",
    "            sl = price * 1.01\n",
    "            tp = price * 0.98\n",
    "            self.sell(sl=sl, tp=tp)\n",
    "    "
   ]
  },
  {
   "cell_type": "code",
   "execution_count": 110,
   "metadata": {},
   "outputs": [],
   "source": [
    "bt = Backtest(df, ETH_Short, cash= 10000, commission= 0.0015)"
   ]
  },
  {
   "cell_type": "code",
   "execution_count": 111,
   "metadata": {},
   "outputs": [],
   "source": [
    "output = bt.run()"
   ]
  },
  {
   "cell_type": "code",
   "execution_count": 112,
   "metadata": {},
   "outputs": [
    {
     "data": {
      "text/plain": [
       "Start                     2023-01-21 09:35:00\n",
       "End                       2023-01-24 20:50:00\n",
       "Duration                      3 days 11:15:00\n",
       "Exposure Time [%]                        35.4\n",
       "Equity Final [$]                  10550.52781\n",
       "Equity Peak [$]                   10550.52781\n",
       "Return [%]                           5.505278\n",
       "Buy & Hold Return [%]               -2.134841\n",
       "Return (Ann.) [%]                 2404.960633\n",
       "Volatility (Ann.) [%]               291.08429\n",
       "Sharpe Ratio                         8.262076\n",
       "Sortino Ratio                             inf\n",
       "Calmar Ratio                      1623.779039\n",
       "Max. Drawdown [%]                   -1.481089\n",
       "Avg. Drawdown [%]                   -0.340255\n",
       "Max. Drawdown Duration        0 days 18:45:00\n",
       "Avg. Drawdown Duration        0 days 02:36:00\n",
       "# Trades                                    3\n",
       "Win Rate [%]                            100.0\n",
       "Best Trade [%]                       1.852779\n",
       "Worst Trade [%]                      1.852779\n",
       "Avg. Trade [%]                       1.852779\n",
       "Max. Trade Duration           0 days 19:45:00\n",
       "Avg. Trade Duration           0 days 09:45:00\n",
       "Profit Factor                             NaN\n",
       "Expectancy [%]                       1.852779\n",
       "SQN                                 224.28788\n",
       "_strategy                           ETH_Short\n",
       "_equity_curve                             ...\n",
       "_trades                      Size  EntryBa...\n",
       "dtype: object"
      ]
     },
     "execution_count": 112,
     "metadata": {},
     "output_type": "execute_result"
    }
   ],
   "source": [
    "output"
   ]
  },
  {
   "cell_type": "code",
   "execution_count": 113,
   "metadata": {},
   "outputs": [
    {
     "data": {
      "text/html": [
       "<div style=\"display: table;\"><div style=\"display: table-row;\"><div style=\"display: table-cell;\"><b title=\"bokeh.models.layouts.Row\">Row</b>(</div><div style=\"display: table-cell;\">id&nbsp;=&nbsp;'19938', <span id=\"20903\" style=\"cursor: pointer;\">&hellip;)</span></div></div><div class=\"20902\" style=\"display: none;\"><div style=\"display: table-cell;\"></div><div style=\"display: table-cell;\">align&nbsp;=&nbsp;'start',</div></div><div class=\"20902\" style=\"display: none;\"><div style=\"display: table-cell;\"></div><div style=\"display: table-cell;\">aspect_ratio&nbsp;=&nbsp;None,</div></div><div class=\"20902\" style=\"display: none;\"><div style=\"display: table-cell;\"></div><div style=\"display: table-cell;\">background&nbsp;=&nbsp;None,</div></div><div class=\"20902\" style=\"display: none;\"><div style=\"display: table-cell;\"></div><div style=\"display: table-cell;\">children&nbsp;=&nbsp;[GridBox(id='19935', ...), ToolbarBox(id='19937', ...)],</div></div><div class=\"20902\" style=\"display: none;\"><div style=\"display: table-cell;\"></div><div style=\"display: table-cell;\">cols&nbsp;=&nbsp;'auto',</div></div><div class=\"20902\" style=\"display: none;\"><div style=\"display: table-cell;\"></div><div style=\"display: table-cell;\">css_classes&nbsp;=&nbsp;[],</div></div><div class=\"20902\" style=\"display: none;\"><div style=\"display: table-cell;\"></div><div style=\"display: table-cell;\">disabled&nbsp;=&nbsp;False,</div></div><div class=\"20902\" style=\"display: none;\"><div style=\"display: table-cell;\"></div><div style=\"display: table-cell;\">height&nbsp;=&nbsp;None,</div></div><div class=\"20902\" style=\"display: none;\"><div style=\"display: table-cell;\"></div><div style=\"display: table-cell;\">height_policy&nbsp;=&nbsp;'auto',</div></div><div class=\"20902\" style=\"display: none;\"><div style=\"display: table-cell;\"></div><div style=\"display: table-cell;\">js_event_callbacks&nbsp;=&nbsp;{},</div></div><div class=\"20902\" style=\"display: none;\"><div style=\"display: table-cell;\"></div><div style=\"display: table-cell;\">js_property_callbacks&nbsp;=&nbsp;{},</div></div><div class=\"20902\" style=\"display: none;\"><div style=\"display: table-cell;\"></div><div style=\"display: table-cell;\">margin&nbsp;=&nbsp;(0, 0, 0, 0),</div></div><div class=\"20902\" style=\"display: none;\"><div style=\"display: table-cell;\"></div><div style=\"display: table-cell;\">max_height&nbsp;=&nbsp;None,</div></div><div class=\"20902\" style=\"display: none;\"><div style=\"display: table-cell;\"></div><div style=\"display: table-cell;\">max_width&nbsp;=&nbsp;None,</div></div><div class=\"20902\" style=\"display: none;\"><div style=\"display: table-cell;\"></div><div style=\"display: table-cell;\">min_height&nbsp;=&nbsp;None,</div></div><div class=\"20902\" style=\"display: none;\"><div style=\"display: table-cell;\"></div><div style=\"display: table-cell;\">min_width&nbsp;=&nbsp;None,</div></div><div class=\"20902\" style=\"display: none;\"><div style=\"display: table-cell;\"></div><div style=\"display: table-cell;\">name&nbsp;=&nbsp;None,</div></div><div class=\"20902\" style=\"display: none;\"><div style=\"display: table-cell;\"></div><div style=\"display: table-cell;\">sizing_mode&nbsp;=&nbsp;'stretch_width',</div></div><div class=\"20902\" style=\"display: none;\"><div style=\"display: table-cell;\"></div><div style=\"display: table-cell;\">spacing&nbsp;=&nbsp;0,</div></div><div class=\"20902\" style=\"display: none;\"><div style=\"display: table-cell;\"></div><div style=\"display: table-cell;\">subscribed_events&nbsp;=&nbsp;[],</div></div><div class=\"20902\" style=\"display: none;\"><div style=\"display: table-cell;\"></div><div style=\"display: table-cell;\">syncable&nbsp;=&nbsp;True,</div></div><div class=\"20902\" style=\"display: none;\"><div style=\"display: table-cell;\"></div><div style=\"display: table-cell;\">tags&nbsp;=&nbsp;[],</div></div><div class=\"20902\" style=\"display: none;\"><div style=\"display: table-cell;\"></div><div style=\"display: table-cell;\">visible&nbsp;=&nbsp;True,</div></div><div class=\"20902\" style=\"display: none;\"><div style=\"display: table-cell;\"></div><div style=\"display: table-cell;\">width&nbsp;=&nbsp;None,</div></div><div class=\"20902\" style=\"display: none;\"><div style=\"display: table-cell;\"></div><div style=\"display: table-cell;\">width_policy&nbsp;=&nbsp;'auto')</div></div></div>\n",
       "<script>\n",
       "(function() {\n",
       "  let expanded = false;\n",
       "  const ellipsis = document.getElementById(\"20903\");\n",
       "  ellipsis.addEventListener(\"click\", function() {\n",
       "    const rows = document.getElementsByClassName(\"20902\");\n",
       "    for (let i = 0; i < rows.length; i++) {\n",
       "      const el = rows[i];\n",
       "      el.style.display = expanded ? \"none\" : \"table-row\";\n",
       "    }\n",
       "    ellipsis.innerHTML = expanded ? \"&hellip;)\" : \"&lsaquo;&lsaquo;&lsaquo;\";\n",
       "    expanded = !expanded;\n",
       "  });\n",
       "})();\n",
       "</script>\n"
      ],
      "text/plain": [
       "Row(id='19938', ...)"
      ]
     },
     "execution_count": 113,
     "metadata": {},
     "output_type": "execute_result"
    }
   ],
   "source": [
    "bt.plot()"
   ]
  },
  {
   "cell_type": "code",
   "execution_count": null,
   "metadata": {},
   "outputs": [],
   "source": []
  }
 ],
 "metadata": {
  "kernelspec": {
   "display_name": "base",
   "language": "python",
   "name": "python3"
  },
  "language_info": {
   "codemirror_mode": {
    "name": "ipython",
    "version": 3
   },
   "file_extension": ".py",
   "mimetype": "text/x-python",
   "name": "python",
   "nbconvert_exporter": "python",
   "pygments_lexer": "ipython3",
   "version": "3.9.12 (main, Apr  4 2022, 05:22:27) [MSC v.1916 64 bit (AMD64)]"
  },
  "orig_nbformat": 4,
  "vscode": {
   "interpreter": {
    "hash": "8e76f8642360a3358ab06c318ab18c1161224eb3836609d5c16edea6f6e43dba"
   }
  }
 },
 "nbformat": 4,
 "nbformat_minor": 2
}
