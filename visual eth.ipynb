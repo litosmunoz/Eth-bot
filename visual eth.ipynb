{
 "cells": [
  {
   "cell_type": "code",
   "execution_count": 1,
   "metadata": {},
   "outputs": [],
   "source": [
    "import pandas as pd\n",
    "import ta\n",
    "from backtesting import Backtest, Strategy\n",
    "from backtesting.lib import crossover\n",
    "from pybit import spot  # <-- import HTTP & WSS for spot\n",
    "from pybit import HTTP  # supports inverse perp & futures, usdt perp, spot.\n",
    "from dotenv import load_dotenv\n",
    "import os\n",
    "import warnings\n",
    "warnings.simplefilter(\"ignore\")"
   ]
  },
  {
   "cell_type": "code",
   "execution_count": 2,
   "metadata": {},
   "outputs": [
    {
     "data": {
      "text/plain": [
       "True"
      ]
     },
     "execution_count": 2,
     "metadata": {},
     "output_type": "execute_result"
    }
   ],
   "source": [
    "load_dotenv()"
   ]
  },
  {
   "cell_type": "code",
   "execution_count": 3,
   "metadata": {},
   "outputs": [],
   "source": [
    "api_key_pw = os.getenv('api_key_bot_IP')\n",
    "api_secret_pw = os.getenv('api_secret_bot_IP')"
   ]
  },
  {
   "cell_type": "code",
   "execution_count": 4,
   "metadata": {},
   "outputs": [],
   "source": [
    "from pybit import spot\n",
    "session_auth = spot.HTTP(\n",
    "    endpoint='https://api.bybit.com',\n",
    "    api_key = api_key_pw,\n",
    "    api_secret= api_secret_pw\n",
    ")"
   ]
  },
  {
   "cell_type": "code",
   "execution_count": 5,
   "metadata": {},
   "outputs": [],
   "source": [
    "def get5minutedata(symbol, interval):\n",
    "    frame = pd.DataFrame(session_auth.query_kline(symbol=symbol, interval=interval)[\"result\"])\n",
    "    frame = frame.iloc[:,:6]\n",
    "    frame.columns = ['Time', 'Open', 'High', 'Low', 'Close', 'Volume']\n",
    "    frame = frame.set_index(\"Time\")\n",
    "    frame.index = pd.to_datetime(frame.index, unit=\"ms\")\n",
    "    frame = frame.astype(float)\n",
    "    return frame"
   ]
  },
  {
   "cell_type": "code",
   "execution_count": 6,
   "metadata": {},
   "outputs": [
    {
     "data": {
      "text/html": [
       "<div>\n",
       "<style scoped>\n",
       "    .dataframe tbody tr th:only-of-type {\n",
       "        vertical-align: middle;\n",
       "    }\n",
       "\n",
       "    .dataframe tbody tr th {\n",
       "        vertical-align: top;\n",
       "    }\n",
       "\n",
       "    .dataframe thead th {\n",
       "        text-align: right;\n",
       "    }\n",
       "</style>\n",
       "<table border=\"1\" class=\"dataframe\">\n",
       "  <thead>\n",
       "    <tr style=\"text-align: right;\">\n",
       "      <th></th>\n",
       "      <th>Open</th>\n",
       "      <th>High</th>\n",
       "      <th>Low</th>\n",
       "      <th>Close</th>\n",
       "      <th>Volume</th>\n",
       "    </tr>\n",
       "    <tr>\n",
       "      <th>Time</th>\n",
       "      <th></th>\n",
       "      <th></th>\n",
       "      <th></th>\n",
       "      <th></th>\n",
       "      <th></th>\n",
       "    </tr>\n",
       "  </thead>\n",
       "  <tbody>\n",
       "    <tr>\n",
       "      <th>2023-01-21 09:25:00</th>\n",
       "      <td>1646.51</td>\n",
       "      <td>1646.76</td>\n",
       "      <td>1645.86</td>\n",
       "      <td>1646.71</td>\n",
       "      <td>54.01136</td>\n",
       "    </tr>\n",
       "    <tr>\n",
       "      <th>2023-01-21 09:30:00</th>\n",
       "      <td>1646.71</td>\n",
       "      <td>1649.73</td>\n",
       "      <td>1646.71</td>\n",
       "      <td>1649.73</td>\n",
       "      <td>32.94664</td>\n",
       "    </tr>\n",
       "    <tr>\n",
       "      <th>2023-01-21 09:35:00</th>\n",
       "      <td>1649.73</td>\n",
       "      <td>1650.60</td>\n",
       "      <td>1649.49</td>\n",
       "      <td>1650.24</td>\n",
       "      <td>39.41416</td>\n",
       "    </tr>\n",
       "    <tr>\n",
       "      <th>2023-01-21 09:40:00</th>\n",
       "      <td>1650.24</td>\n",
       "      <td>1659.47</td>\n",
       "      <td>1650.18</td>\n",
       "      <td>1652.93</td>\n",
       "      <td>834.77356</td>\n",
       "    </tr>\n",
       "    <tr>\n",
       "      <th>2023-01-21 09:45:00</th>\n",
       "      <td>1652.93</td>\n",
       "      <td>1654.90</td>\n",
       "      <td>1649.12</td>\n",
       "      <td>1654.61</td>\n",
       "      <td>279.47472</td>\n",
       "    </tr>\n",
       "    <tr>\n",
       "      <th>...</th>\n",
       "      <td>...</td>\n",
       "      <td>...</td>\n",
       "      <td>...</td>\n",
       "      <td>...</td>\n",
       "      <td>...</td>\n",
       "    </tr>\n",
       "    <tr>\n",
       "      <th>2023-01-24 20:20:00</th>\n",
       "      <td>1617.48</td>\n",
       "      <td>1618.43</td>\n",
       "      <td>1617.31</td>\n",
       "      <td>1618.43</td>\n",
       "      <td>39.51620</td>\n",
       "    </tr>\n",
       "    <tr>\n",
       "      <th>2023-01-24 20:25:00</th>\n",
       "      <td>1618.43</td>\n",
       "      <td>1618.62</td>\n",
       "      <td>1616.00</td>\n",
       "      <td>1616.98</td>\n",
       "      <td>120.74613</td>\n",
       "    </tr>\n",
       "    <tr>\n",
       "      <th>2023-01-24 20:30:00</th>\n",
       "      <td>1616.98</td>\n",
       "      <td>1617.86</td>\n",
       "      <td>1616.04</td>\n",
       "      <td>1616.04</td>\n",
       "      <td>226.49404</td>\n",
       "    </tr>\n",
       "    <tr>\n",
       "      <th>2023-01-24 20:35:00</th>\n",
       "      <td>1616.04</td>\n",
       "      <td>1616.50</td>\n",
       "      <td>1612.73</td>\n",
       "      <td>1613.06</td>\n",
       "      <td>135.30520</td>\n",
       "    </tr>\n",
       "    <tr>\n",
       "      <th>2023-01-24 20:40:00</th>\n",
       "      <td>1613.06</td>\n",
       "      <td>1613.06</td>\n",
       "      <td>1610.30</td>\n",
       "      <td>1611.62</td>\n",
       "      <td>76.47945</td>\n",
       "    </tr>\n",
       "  </tbody>\n",
       "</table>\n",
       "<p>1000 rows × 5 columns</p>\n",
       "</div>"
      ],
      "text/plain": [
       "                        Open     High      Low    Close     Volume\n",
       "Time                                                              \n",
       "2023-01-21 09:25:00  1646.51  1646.76  1645.86  1646.71   54.01136\n",
       "2023-01-21 09:30:00  1646.71  1649.73  1646.71  1649.73   32.94664\n",
       "2023-01-21 09:35:00  1649.73  1650.60  1649.49  1650.24   39.41416\n",
       "2023-01-21 09:40:00  1650.24  1659.47  1650.18  1652.93  834.77356\n",
       "2023-01-21 09:45:00  1652.93  1654.90  1649.12  1654.61  279.47472\n",
       "...                      ...      ...      ...      ...        ...\n",
       "2023-01-24 20:20:00  1617.48  1618.43  1617.31  1618.43   39.51620\n",
       "2023-01-24 20:25:00  1618.43  1618.62  1616.00  1616.98  120.74613\n",
       "2023-01-24 20:30:00  1616.98  1617.86  1616.04  1616.04  226.49404\n",
       "2023-01-24 20:35:00  1616.04  1616.50  1612.73  1613.06  135.30520\n",
       "2023-01-24 20:40:00  1613.06  1613.06  1610.30  1611.62   76.47945\n",
       "\n",
       "[1000 rows x 5 columns]"
      ]
     },
     "execution_count": 6,
     "metadata": {},
     "output_type": "execute_result"
    }
   ],
   "source": [
    "df = get5minutedata(\"ETHUSDT\", \"5m\")\n",
    "df"
   ]
  },
  {
   "cell_type": "code",
   "execution_count": 7,
   "metadata": {},
   "outputs": [
    {
     "ename": "FileNotFoundError",
     "evalue": "[Errno 2] No such file or directory: './sol_todo.csv'",
     "output_type": "error",
     "traceback": [
      "\u001b[1;31m---------------------------------------------------------------------------\u001b[0m",
      "\u001b[1;31mFileNotFoundError\u001b[0m                         Traceback (most recent call last)",
      "\u001b[1;32mc:\\Users\\carlo\\Trading\\Eth-bot\\visual eth.ipynb Cell 7\u001b[0m in \u001b[0;36m<cell line: 1>\u001b[1;34m()\u001b[0m\n\u001b[1;32m----> <a href='vscode-notebook-cell:/c%3A/Users/carlo/Trading/Eth-bot/visual%20eth.ipynb#W6sZmlsZQ%3D%3D?line=0'>1</a>\u001b[0m sol \u001b[39m=\u001b[39m pd\u001b[39m.\u001b[39;49mread_csv (\u001b[39m'\u001b[39;49m\u001b[39m./sol_todo.csv\u001b[39;49m\u001b[39m'\u001b[39;49m)\n\u001b[0;32m      <a href='vscode-notebook-cell:/c%3A/Users/carlo/Trading/Eth-bot/visual%20eth.ipynb#W6sZmlsZQ%3D%3D?line=1'>2</a>\u001b[0m sol[\u001b[39m'\u001b[39m\u001b[39mTime\u001b[39m\u001b[39m'\u001b[39m] \u001b[39m=\u001b[39m sol[\u001b[39m'\u001b[39m\u001b[39mtime\u001b[39m\u001b[39m'\u001b[39m]\u001b[39m.\u001b[39mstr\u001b[39m.\u001b[39mextract(\u001b[39m'\u001b[39m\u001b[39m(\u001b[39m\u001b[39m\\\u001b[39m\u001b[39md\u001b[39m\u001b[39m{4}\u001b[39;00m\u001b[39m-\u001b[39m\u001b[39m\\\u001b[39m\u001b[39md\u001b[39m\u001b[39m{2}\u001b[39;00m\u001b[39m-\u001b[39m\u001b[39m\\\u001b[39m\u001b[39md\u001b[39m\u001b[39m{2}\u001b[39;00m\u001b[39m\\\u001b[39m\u001b[39mw\u001b[39m\u001b[39m\\\u001b[39m\u001b[39md\u001b[39m\u001b[39m{2}\u001b[39;00m\u001b[39m:\u001b[39m\u001b[39m\\\u001b[39m\u001b[39md\u001b[39m\u001b[39m{2}\u001b[39;00m\u001b[39m:\u001b[39m\u001b[39m\\\u001b[39m\u001b[39md\u001b[39m\u001b[39m{2}\u001b[39;00m\u001b[39m)\u001b[39m\u001b[39m'\u001b[39m, expand\u001b[39m=\u001b[39m\u001b[39mTrue\u001b[39;00m)\n\u001b[0;32m      <a href='vscode-notebook-cell:/c%3A/Users/carlo/Trading/Eth-bot/visual%20eth.ipynb#W6sZmlsZQ%3D%3D?line=2'>3</a>\u001b[0m sol[\u001b[39m'\u001b[39m\u001b[39mTime\u001b[39m\u001b[39m'\u001b[39m] \u001b[39m=\u001b[39m pd\u001b[39m.\u001b[39mto_datetime(sol[\u001b[39m\"\u001b[39m\u001b[39mTime\u001b[39m\u001b[39m\"\u001b[39m])\n",
      "File \u001b[1;32mc:\\Users\\carlo\\anaconda3\\lib\\site-packages\\pandas\\util\\_decorators.py:311\u001b[0m, in \u001b[0;36mdeprecate_nonkeyword_arguments.<locals>.decorate.<locals>.wrapper\u001b[1;34m(*args, **kwargs)\u001b[0m\n\u001b[0;32m    305\u001b[0m \u001b[39mif\u001b[39;00m \u001b[39mlen\u001b[39m(args) \u001b[39m>\u001b[39m num_allow_args:\n\u001b[0;32m    306\u001b[0m     warnings\u001b[39m.\u001b[39mwarn(\n\u001b[0;32m    307\u001b[0m         msg\u001b[39m.\u001b[39mformat(arguments\u001b[39m=\u001b[39marguments),\n\u001b[0;32m    308\u001b[0m         \u001b[39mFutureWarning\u001b[39;00m,\n\u001b[0;32m    309\u001b[0m         stacklevel\u001b[39m=\u001b[39mstacklevel,\n\u001b[0;32m    310\u001b[0m     )\n\u001b[1;32m--> 311\u001b[0m \u001b[39mreturn\u001b[39;00m func(\u001b[39m*\u001b[39margs, \u001b[39m*\u001b[39m\u001b[39m*\u001b[39mkwargs)\n",
      "File \u001b[1;32mc:\\Users\\carlo\\anaconda3\\lib\\site-packages\\pandas\\io\\parsers\\readers.py:680\u001b[0m, in \u001b[0;36mread_csv\u001b[1;34m(filepath_or_buffer, sep, delimiter, header, names, index_col, usecols, squeeze, prefix, mangle_dupe_cols, dtype, engine, converters, true_values, false_values, skipinitialspace, skiprows, skipfooter, nrows, na_values, keep_default_na, na_filter, verbose, skip_blank_lines, parse_dates, infer_datetime_format, keep_date_col, date_parser, dayfirst, cache_dates, iterator, chunksize, compression, thousands, decimal, lineterminator, quotechar, quoting, doublequote, escapechar, comment, encoding, encoding_errors, dialect, error_bad_lines, warn_bad_lines, on_bad_lines, delim_whitespace, low_memory, memory_map, float_precision, storage_options)\u001b[0m\n\u001b[0;32m    665\u001b[0m kwds_defaults \u001b[39m=\u001b[39m _refine_defaults_read(\n\u001b[0;32m    666\u001b[0m     dialect,\n\u001b[0;32m    667\u001b[0m     delimiter,\n\u001b[1;32m   (...)\u001b[0m\n\u001b[0;32m    676\u001b[0m     defaults\u001b[39m=\u001b[39m{\u001b[39m\"\u001b[39m\u001b[39mdelimiter\u001b[39m\u001b[39m\"\u001b[39m: \u001b[39m\"\u001b[39m\u001b[39m,\u001b[39m\u001b[39m\"\u001b[39m},\n\u001b[0;32m    677\u001b[0m )\n\u001b[0;32m    678\u001b[0m kwds\u001b[39m.\u001b[39mupdate(kwds_defaults)\n\u001b[1;32m--> 680\u001b[0m \u001b[39mreturn\u001b[39;00m _read(filepath_or_buffer, kwds)\n",
      "File \u001b[1;32mc:\\Users\\carlo\\anaconda3\\lib\\site-packages\\pandas\\io\\parsers\\readers.py:575\u001b[0m, in \u001b[0;36m_read\u001b[1;34m(filepath_or_buffer, kwds)\u001b[0m\n\u001b[0;32m    572\u001b[0m _validate_names(kwds\u001b[39m.\u001b[39mget(\u001b[39m\"\u001b[39m\u001b[39mnames\u001b[39m\u001b[39m\"\u001b[39m, \u001b[39mNone\u001b[39;00m))\n\u001b[0;32m    574\u001b[0m \u001b[39m# Create the parser.\u001b[39;00m\n\u001b[1;32m--> 575\u001b[0m parser \u001b[39m=\u001b[39m TextFileReader(filepath_or_buffer, \u001b[39m*\u001b[39m\u001b[39m*\u001b[39mkwds)\n\u001b[0;32m    577\u001b[0m \u001b[39mif\u001b[39;00m chunksize \u001b[39mor\u001b[39;00m iterator:\n\u001b[0;32m    578\u001b[0m     \u001b[39mreturn\u001b[39;00m parser\n",
      "File \u001b[1;32mc:\\Users\\carlo\\anaconda3\\lib\\site-packages\\pandas\\io\\parsers\\readers.py:933\u001b[0m, in \u001b[0;36mTextFileReader.__init__\u001b[1;34m(self, f, engine, **kwds)\u001b[0m\n\u001b[0;32m    930\u001b[0m     \u001b[39mself\u001b[39m\u001b[39m.\u001b[39moptions[\u001b[39m\"\u001b[39m\u001b[39mhas_index_names\u001b[39m\u001b[39m\"\u001b[39m] \u001b[39m=\u001b[39m kwds[\u001b[39m\"\u001b[39m\u001b[39mhas_index_names\u001b[39m\u001b[39m\"\u001b[39m]\n\u001b[0;32m    932\u001b[0m \u001b[39mself\u001b[39m\u001b[39m.\u001b[39mhandles: IOHandles \u001b[39m|\u001b[39m \u001b[39mNone\u001b[39;00m \u001b[39m=\u001b[39m \u001b[39mNone\u001b[39;00m\n\u001b[1;32m--> 933\u001b[0m \u001b[39mself\u001b[39m\u001b[39m.\u001b[39m_engine \u001b[39m=\u001b[39m \u001b[39mself\u001b[39;49m\u001b[39m.\u001b[39;49m_make_engine(f, \u001b[39mself\u001b[39;49m\u001b[39m.\u001b[39;49mengine)\n",
      "File \u001b[1;32mc:\\Users\\carlo\\anaconda3\\lib\\site-packages\\pandas\\io\\parsers\\readers.py:1217\u001b[0m, in \u001b[0;36mTextFileReader._make_engine\u001b[1;34m(self, f, engine)\u001b[0m\n\u001b[0;32m   1213\u001b[0m     mode \u001b[39m=\u001b[39m \u001b[39m\"\u001b[39m\u001b[39mrb\u001b[39m\u001b[39m\"\u001b[39m\n\u001b[0;32m   1214\u001b[0m \u001b[39m# error: No overload variant of \"get_handle\" matches argument types\u001b[39;00m\n\u001b[0;32m   1215\u001b[0m \u001b[39m# \"Union[str, PathLike[str], ReadCsvBuffer[bytes], ReadCsvBuffer[str]]\"\u001b[39;00m\n\u001b[0;32m   1216\u001b[0m \u001b[39m# , \"str\", \"bool\", \"Any\", \"Any\", \"Any\", \"Any\", \"Any\"\u001b[39;00m\n\u001b[1;32m-> 1217\u001b[0m \u001b[39mself\u001b[39m\u001b[39m.\u001b[39mhandles \u001b[39m=\u001b[39m get_handle(  \u001b[39m# type: ignore[call-overload]\u001b[39;49;00m\n\u001b[0;32m   1218\u001b[0m     f,\n\u001b[0;32m   1219\u001b[0m     mode,\n\u001b[0;32m   1220\u001b[0m     encoding\u001b[39m=\u001b[39;49m\u001b[39mself\u001b[39;49m\u001b[39m.\u001b[39;49moptions\u001b[39m.\u001b[39;49mget(\u001b[39m\"\u001b[39;49m\u001b[39mencoding\u001b[39;49m\u001b[39m\"\u001b[39;49m, \u001b[39mNone\u001b[39;49;00m),\n\u001b[0;32m   1221\u001b[0m     compression\u001b[39m=\u001b[39;49m\u001b[39mself\u001b[39;49m\u001b[39m.\u001b[39;49moptions\u001b[39m.\u001b[39;49mget(\u001b[39m\"\u001b[39;49m\u001b[39mcompression\u001b[39;49m\u001b[39m\"\u001b[39;49m, \u001b[39mNone\u001b[39;49;00m),\n\u001b[0;32m   1222\u001b[0m     memory_map\u001b[39m=\u001b[39;49m\u001b[39mself\u001b[39;49m\u001b[39m.\u001b[39;49moptions\u001b[39m.\u001b[39;49mget(\u001b[39m\"\u001b[39;49m\u001b[39mmemory_map\u001b[39;49m\u001b[39m\"\u001b[39;49m, \u001b[39mFalse\u001b[39;49;00m),\n\u001b[0;32m   1223\u001b[0m     is_text\u001b[39m=\u001b[39;49mis_text,\n\u001b[0;32m   1224\u001b[0m     errors\u001b[39m=\u001b[39;49m\u001b[39mself\u001b[39;49m\u001b[39m.\u001b[39;49moptions\u001b[39m.\u001b[39;49mget(\u001b[39m\"\u001b[39;49m\u001b[39mencoding_errors\u001b[39;49m\u001b[39m\"\u001b[39;49m, \u001b[39m\"\u001b[39;49m\u001b[39mstrict\u001b[39;49m\u001b[39m\"\u001b[39;49m),\n\u001b[0;32m   1225\u001b[0m     storage_options\u001b[39m=\u001b[39;49m\u001b[39mself\u001b[39;49m\u001b[39m.\u001b[39;49moptions\u001b[39m.\u001b[39;49mget(\u001b[39m\"\u001b[39;49m\u001b[39mstorage_options\u001b[39;49m\u001b[39m\"\u001b[39;49m, \u001b[39mNone\u001b[39;49;00m),\n\u001b[0;32m   1226\u001b[0m )\n\u001b[0;32m   1227\u001b[0m \u001b[39massert\u001b[39;00m \u001b[39mself\u001b[39m\u001b[39m.\u001b[39mhandles \u001b[39mis\u001b[39;00m \u001b[39mnot\u001b[39;00m \u001b[39mNone\u001b[39;00m\n\u001b[0;32m   1228\u001b[0m f \u001b[39m=\u001b[39m \u001b[39mself\u001b[39m\u001b[39m.\u001b[39mhandles\u001b[39m.\u001b[39mhandle\n",
      "File \u001b[1;32mc:\\Users\\carlo\\anaconda3\\lib\\site-packages\\pandas\\io\\common.py:789\u001b[0m, in \u001b[0;36mget_handle\u001b[1;34m(path_or_buf, mode, encoding, compression, memory_map, is_text, errors, storage_options)\u001b[0m\n\u001b[0;32m    784\u001b[0m \u001b[39melif\u001b[39;00m \u001b[39misinstance\u001b[39m(handle, \u001b[39mstr\u001b[39m):\n\u001b[0;32m    785\u001b[0m     \u001b[39m# Check whether the filename is to be opened in binary mode.\u001b[39;00m\n\u001b[0;32m    786\u001b[0m     \u001b[39m# Binary mode does not support 'encoding' and 'newline'.\u001b[39;00m\n\u001b[0;32m    787\u001b[0m     \u001b[39mif\u001b[39;00m ioargs\u001b[39m.\u001b[39mencoding \u001b[39mand\u001b[39;00m \u001b[39m\"\u001b[39m\u001b[39mb\u001b[39m\u001b[39m\"\u001b[39m \u001b[39mnot\u001b[39;00m \u001b[39min\u001b[39;00m ioargs\u001b[39m.\u001b[39mmode:\n\u001b[0;32m    788\u001b[0m         \u001b[39m# Encoding\u001b[39;00m\n\u001b[1;32m--> 789\u001b[0m         handle \u001b[39m=\u001b[39m \u001b[39mopen\u001b[39;49m(\n\u001b[0;32m    790\u001b[0m             handle,\n\u001b[0;32m    791\u001b[0m             ioargs\u001b[39m.\u001b[39;49mmode,\n\u001b[0;32m    792\u001b[0m             encoding\u001b[39m=\u001b[39;49mioargs\u001b[39m.\u001b[39;49mencoding,\n\u001b[0;32m    793\u001b[0m             errors\u001b[39m=\u001b[39;49merrors,\n\u001b[0;32m    794\u001b[0m             newline\u001b[39m=\u001b[39;49m\u001b[39m\"\u001b[39;49m\u001b[39m\"\u001b[39;49m,\n\u001b[0;32m    795\u001b[0m         )\n\u001b[0;32m    796\u001b[0m     \u001b[39melse\u001b[39;00m:\n\u001b[0;32m    797\u001b[0m         \u001b[39m# Binary mode\u001b[39;00m\n\u001b[0;32m    798\u001b[0m         handle \u001b[39m=\u001b[39m \u001b[39mopen\u001b[39m(handle, ioargs\u001b[39m.\u001b[39mmode)\n",
      "\u001b[1;31mFileNotFoundError\u001b[0m: [Errno 2] No such file or directory: './sol_todo.csv'"
     ]
    }
   ],
   "source": [
    "sol = pd.read_csv ('./eth.csv')\n",
    "sol['Time'] = sol['time'].str.extract('(\\d{4}-\\d{2}-\\d{2}\\w\\d{2}:\\d{2}:\\d{2})', expand=True)\n",
    "sol['Time'] = pd.to_datetime(sol[\"Time\"])\n",
    "sol.set_index(\"Time\", inplace = True)\n",
    "sol.drop(columns=\"time\", inplace=True)\n",
    "sol.columns = ['Open', 'High', 'Low', 'Close', 'Volume']\n",
    "sol = sol[7300:]"
   ]
  },
  {
   "cell_type": "code",
   "execution_count": 8,
   "metadata": {},
   "outputs": [
    {
     "data": {
      "text/html": [
       "<div>\n",
       "<style scoped>\n",
       "    .dataframe tbody tr th:only-of-type {\n",
       "        vertical-align: middle;\n",
       "    }\n",
       "\n",
       "    .dataframe tbody tr th {\n",
       "        vertical-align: top;\n",
       "    }\n",
       "\n",
       "    .dataframe thead th {\n",
       "        text-align: right;\n",
       "    }\n",
       "</style>\n",
       "<table border=\"1\" class=\"dataframe\">\n",
       "  <thead>\n",
       "    <tr style=\"text-align: right;\">\n",
       "      <th></th>\n",
       "      <th>Open</th>\n",
       "      <th>High</th>\n",
       "      <th>Low</th>\n",
       "      <th>Close</th>\n",
       "      <th>Volume</th>\n",
       "    </tr>\n",
       "    <tr>\n",
       "      <th>Time</th>\n",
       "      <th></th>\n",
       "      <th></th>\n",
       "      <th></th>\n",
       "      <th></th>\n",
       "      <th></th>\n",
       "    </tr>\n",
       "  </thead>\n",
       "  <tbody>\n",
       "    <tr>\n",
       "      <th>2022-12-30 09:20:00</th>\n",
       "      <td>9.070</td>\n",
       "      <td>9.090</td>\n",
       "      <td>9.035</td>\n",
       "      <td>9.055</td>\n",
       "      <td>199329.7</td>\n",
       "    </tr>\n",
       "    <tr>\n",
       "      <th>2022-12-30 09:25:00</th>\n",
       "      <td>9.055</td>\n",
       "      <td>9.125</td>\n",
       "      <td>9.050</td>\n",
       "      <td>9.090</td>\n",
       "      <td>249521.9</td>\n",
       "    </tr>\n",
       "    <tr>\n",
       "      <th>2022-12-30 09:30:00</th>\n",
       "      <td>9.090</td>\n",
       "      <td>9.110</td>\n",
       "      <td>9.040</td>\n",
       "      <td>9.080</td>\n",
       "      <td>196293.6</td>\n",
       "    </tr>\n",
       "    <tr>\n",
       "      <th>2022-12-30 09:35:00</th>\n",
       "      <td>9.080</td>\n",
       "      <td>9.085</td>\n",
       "      <td>8.965</td>\n",
       "      <td>8.980</td>\n",
       "      <td>378871.2</td>\n",
       "    </tr>\n",
       "    <tr>\n",
       "      <th>2022-12-30 09:40:00</th>\n",
       "      <td>8.980</td>\n",
       "      <td>9.045</td>\n",
       "      <td>8.975</td>\n",
       "      <td>9.045</td>\n",
       "      <td>246094.2</td>\n",
       "    </tr>\n",
       "    <tr>\n",
       "      <th>...</th>\n",
       "      <td>...</td>\n",
       "      <td>...</td>\n",
       "      <td>...</td>\n",
       "      <td>...</td>\n",
       "      <td>...</td>\n",
       "    </tr>\n",
       "    <tr>\n",
       "      <th>2023-01-10 15:20:00</th>\n",
       "      <td>16.115</td>\n",
       "      <td>16.145</td>\n",
       "      <td>16.045</td>\n",
       "      <td>16.140</td>\n",
       "      <td>169186.0</td>\n",
       "    </tr>\n",
       "    <tr>\n",
       "      <th>2023-01-10 15:25:00</th>\n",
       "      <td>16.140</td>\n",
       "      <td>16.145</td>\n",
       "      <td>16.080</td>\n",
       "      <td>16.120</td>\n",
       "      <td>64190.9</td>\n",
       "    </tr>\n",
       "    <tr>\n",
       "      <th>2023-01-10 15:30:00</th>\n",
       "      <td>16.120</td>\n",
       "      <td>16.315</td>\n",
       "      <td>16.115</td>\n",
       "      <td>16.285</td>\n",
       "      <td>342420.7</td>\n",
       "    </tr>\n",
       "    <tr>\n",
       "      <th>2023-01-10 15:35:00</th>\n",
       "      <td>16.285</td>\n",
       "      <td>16.295</td>\n",
       "      <td>16.200</td>\n",
       "      <td>16.215</td>\n",
       "      <td>197775.5</td>\n",
       "    </tr>\n",
       "    <tr>\n",
       "      <th>2023-01-10 15:40:00</th>\n",
       "      <td>16.215</td>\n",
       "      <td>16.225</td>\n",
       "      <td>16.130</td>\n",
       "      <td>16.185</td>\n",
       "      <td>138129.0</td>\n",
       "    </tr>\n",
       "  </tbody>\n",
       "</table>\n",
       "<p>3245 rows × 5 columns</p>\n",
       "</div>"
      ],
      "text/plain": [
       "                       Open    High     Low   Close    Volume\n",
       "Time                                                         \n",
       "2022-12-30 09:20:00   9.070   9.090   9.035   9.055  199329.7\n",
       "2022-12-30 09:25:00   9.055   9.125   9.050   9.090  249521.9\n",
       "2022-12-30 09:30:00   9.090   9.110   9.040   9.080  196293.6\n",
       "2022-12-30 09:35:00   9.080   9.085   8.965   8.980  378871.2\n",
       "2022-12-30 09:40:00   8.980   9.045   8.975   9.045  246094.2\n",
       "...                     ...     ...     ...     ...       ...\n",
       "2023-01-10 15:20:00  16.115  16.145  16.045  16.140  169186.0\n",
       "2023-01-10 15:25:00  16.140  16.145  16.080  16.120   64190.9\n",
       "2023-01-10 15:30:00  16.120  16.315  16.115  16.285  342420.7\n",
       "2023-01-10 15:35:00  16.285  16.295  16.200  16.215  197775.5\n",
       "2023-01-10 15:40:00  16.215  16.225  16.130  16.185  138129.0\n",
       "\n",
       "[3245 rows x 5 columns]"
      ]
     },
     "execution_count": 8,
     "metadata": {},
     "output_type": "execute_result"
    }
   ],
   "source": [
    "sol"
   ]
  },
  {
   "cell_type": "code",
   "execution_count": 9,
   "metadata": {},
   "outputs": [],
   "source": [
    "class Sol_long(Strategy):\n",
    "\n",
    "    def init(self):\n",
    "        close = self.data.Close\n",
    "        self.rsi= self.I(ta.momentum.rsi, pd.Series(close), window=14)\n",
    "        self.K = self.I(ta.momentum.stochrsi_k, pd.Series(close), window= 14)\n",
    "        self.D = self.I(ta.momentum.stochrsi_d, pd.Series(close), window= 14)\n",
    "\n",
    "    def next(self):\n",
    "        price = self.data.Close\n",
    "        rsi = self.rsi\n",
    "        K = self.K\n",
    "        D = self.D\n",
    "       \n",
    "        if  rsi > 72 and K < D and D > 0.75:\n",
    "            limit_price = price * 0.995\n",
    "            sl = limit_price * 0.98\n",
    "            tp = limit_price * 1.05\n",
    "            self.buy(sl=sl, tp=tp)\n",
    "    "
   ]
  },
  {
   "cell_type": "code",
   "execution_count": 10,
   "metadata": {},
   "outputs": [],
   "source": [
    "bt = Backtest(sol, Sol_long, cash= 10000, commission= 0.0015)"
   ]
  },
  {
   "cell_type": "code",
   "execution_count": 11,
   "metadata": {},
   "outputs": [],
   "source": [
    "output = bt.run()"
   ]
  },
  {
   "cell_type": "code",
   "execution_count": 12,
   "metadata": {},
   "outputs": [
    {
     "data": {
      "text/plain": [
       "Start                     2022-12-30 09:20:00\n",
       "End                       2023-01-10 15:40:00\n",
       "Duration                     11 days 06:20:00\n",
       "Exposure Time [%]                   33.990755\n",
       "Equity Final [$]                 12387.280754\n",
       "Equity Peak [$]                  12452.135754\n",
       "Return [%]                          23.872808\n",
       "Buy & Hold Return [%]               78.741027\n",
       "Return (Ann.) [%]                67200.674655\n",
       "Volatility (Ann.) [%]            23018.712539\n",
       "Sharpe Ratio                         2.919393\n",
       "Sortino Ratio                    41794.271841\n",
       "Calmar Ratio                     18406.884318\n",
       "Max. Drawdown [%]                   -3.650845\n",
       "Avg. Drawdown [%]                   -0.687363\n",
       "Max. Drawdown Duration        1 days 07:15:00\n",
       "Avg. Drawdown Duration        0 days 01:47:00\n",
       "# Trades                                    7\n",
       "Win Rate [%]                        85.714286\n",
       "Best Trade [%]                       4.318522\n",
       "Worst Trade [%]                     -2.636046\n",
       "Avg. Trade [%]                       3.107059\n",
       "Max. Trade Duration           1 days 01:40:00\n",
       "Avg. Trade Duration           0 days 13:03:00\n",
       "Profit Factor                        9.327218\n",
       "Expectancy [%]                       3.135847\n",
       "SQN                                  3.094638\n",
       "_strategy                            Sol_long\n",
       "_equity_curve                             ...\n",
       "_trades                      Size  EntryBa...\n",
       "dtype: object"
      ]
     },
     "execution_count": 12,
     "metadata": {},
     "output_type": "execute_result"
    }
   ],
   "source": [
    "output"
   ]
  },
  {
   "cell_type": "code",
   "execution_count": 13,
   "metadata": {},
   "outputs": [
    {
     "data": {
      "text/html": [
       "<div style=\"display: table;\"><div style=\"display: table-row;\"><div style=\"display: table-cell;\"><b title=\"bokeh.models.layouts.Row\">Row</b>(</div><div style=\"display: table-cell;\">id&nbsp;=&nbsp;'1611', <span id=\"2576\" style=\"cursor: pointer;\">&hellip;)</span></div></div><div class=\"2575\" style=\"display: none;\"><div style=\"display: table-cell;\"></div><div style=\"display: table-cell;\">align&nbsp;=&nbsp;'start',</div></div><div class=\"2575\" style=\"display: none;\"><div style=\"display: table-cell;\"></div><div style=\"display: table-cell;\">aspect_ratio&nbsp;=&nbsp;None,</div></div><div class=\"2575\" style=\"display: none;\"><div style=\"display: table-cell;\"></div><div style=\"display: table-cell;\">background&nbsp;=&nbsp;None,</div></div><div class=\"2575\" style=\"display: none;\"><div style=\"display: table-cell;\"></div><div style=\"display: table-cell;\">children&nbsp;=&nbsp;[GridBox(id='1608', ...), ToolbarBox(id='1610', ...)],</div></div><div class=\"2575\" style=\"display: none;\"><div style=\"display: table-cell;\"></div><div style=\"display: table-cell;\">cols&nbsp;=&nbsp;'auto',</div></div><div class=\"2575\" style=\"display: none;\"><div style=\"display: table-cell;\"></div><div style=\"display: table-cell;\">css_classes&nbsp;=&nbsp;[],</div></div><div class=\"2575\" style=\"display: none;\"><div style=\"display: table-cell;\"></div><div style=\"display: table-cell;\">disabled&nbsp;=&nbsp;False,</div></div><div class=\"2575\" style=\"display: none;\"><div style=\"display: table-cell;\"></div><div style=\"display: table-cell;\">height&nbsp;=&nbsp;None,</div></div><div class=\"2575\" style=\"display: none;\"><div style=\"display: table-cell;\"></div><div style=\"display: table-cell;\">height_policy&nbsp;=&nbsp;'auto',</div></div><div class=\"2575\" style=\"display: none;\"><div style=\"display: table-cell;\"></div><div style=\"display: table-cell;\">js_event_callbacks&nbsp;=&nbsp;{},</div></div><div class=\"2575\" style=\"display: none;\"><div style=\"display: table-cell;\"></div><div style=\"display: table-cell;\">js_property_callbacks&nbsp;=&nbsp;{},</div></div><div class=\"2575\" style=\"display: none;\"><div style=\"display: table-cell;\"></div><div style=\"display: table-cell;\">margin&nbsp;=&nbsp;(0, 0, 0, 0),</div></div><div class=\"2575\" style=\"display: none;\"><div style=\"display: table-cell;\"></div><div style=\"display: table-cell;\">max_height&nbsp;=&nbsp;None,</div></div><div class=\"2575\" style=\"display: none;\"><div style=\"display: table-cell;\"></div><div style=\"display: table-cell;\">max_width&nbsp;=&nbsp;None,</div></div><div class=\"2575\" style=\"display: none;\"><div style=\"display: table-cell;\"></div><div style=\"display: table-cell;\">min_height&nbsp;=&nbsp;None,</div></div><div class=\"2575\" style=\"display: none;\"><div style=\"display: table-cell;\"></div><div style=\"display: table-cell;\">min_width&nbsp;=&nbsp;None,</div></div><div class=\"2575\" style=\"display: none;\"><div style=\"display: table-cell;\"></div><div style=\"display: table-cell;\">name&nbsp;=&nbsp;None,</div></div><div class=\"2575\" style=\"display: none;\"><div style=\"display: table-cell;\"></div><div style=\"display: table-cell;\">sizing_mode&nbsp;=&nbsp;'stretch_width',</div></div><div class=\"2575\" style=\"display: none;\"><div style=\"display: table-cell;\"></div><div style=\"display: table-cell;\">spacing&nbsp;=&nbsp;0,</div></div><div class=\"2575\" style=\"display: none;\"><div style=\"display: table-cell;\"></div><div style=\"display: table-cell;\">subscribed_events&nbsp;=&nbsp;[],</div></div><div class=\"2575\" style=\"display: none;\"><div style=\"display: table-cell;\"></div><div style=\"display: table-cell;\">syncable&nbsp;=&nbsp;True,</div></div><div class=\"2575\" style=\"display: none;\"><div style=\"display: table-cell;\"></div><div style=\"display: table-cell;\">tags&nbsp;=&nbsp;[],</div></div><div class=\"2575\" style=\"display: none;\"><div style=\"display: table-cell;\"></div><div style=\"display: table-cell;\">visible&nbsp;=&nbsp;True,</div></div><div class=\"2575\" style=\"display: none;\"><div style=\"display: table-cell;\"></div><div style=\"display: table-cell;\">width&nbsp;=&nbsp;None,</div></div><div class=\"2575\" style=\"display: none;\"><div style=\"display: table-cell;\"></div><div style=\"display: table-cell;\">width_policy&nbsp;=&nbsp;'auto')</div></div></div>\n",
       "<script>\n",
       "(function() {\n",
       "  let expanded = false;\n",
       "  const ellipsis = document.getElementById(\"2576\");\n",
       "  ellipsis.addEventListener(\"click\", function() {\n",
       "    const rows = document.getElementsByClassName(\"2575\");\n",
       "    for (let i = 0; i < rows.length; i++) {\n",
       "      const el = rows[i];\n",
       "      el.style.display = expanded ? \"none\" : \"table-row\";\n",
       "    }\n",
       "    ellipsis.innerHTML = expanded ? \"&hellip;)\" : \"&lsaquo;&lsaquo;&lsaquo;\";\n",
       "    expanded = !expanded;\n",
       "  });\n",
       "})();\n",
       "</script>\n"
      ],
      "text/plain": [
       "Row(id='1611', ...)"
      ]
     },
     "execution_count": 13,
     "metadata": {},
     "output_type": "execute_result"
    }
   ],
   "source": [
    "bt.plot()"
   ]
  }
 ],
 "metadata": {
  "kernelspec": {
   "display_name": "base",
   "language": "python",
   "name": "python3"
  },
  "language_info": {
   "codemirror_mode": {
    "name": "ipython",
    "version": 3
   },
   "file_extension": ".py",
   "mimetype": "text/x-python",
   "name": "python",
   "nbconvert_exporter": "python",
   "pygments_lexer": "ipython3",
   "version": "3.9.12"
  },
  "orig_nbformat": 4,
  "vscode": {
   "interpreter": {
    "hash": "8e76f8642360a3358ab06c318ab18c1161224eb3836609d5c16edea6f6e43dba"
   }
  }
 },
 "nbformat": 4,
 "nbformat_minor": 2
}
